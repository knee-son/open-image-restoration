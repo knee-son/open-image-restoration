{
 "cells": [
  {
   "cell_type": "code",
   "execution_count": 1,
   "metadata": {},
   "outputs": [
    {
     "name": "stdout",
     "output_type": "stream",
     "text": [
      "/home/mickael.tits/ImageRestorationPipeline\n"
     ]
    }
   ],
   "source": [
    "base_dir = '/home/mickael.tits/ImageRestorationPipeline'\n",
    "\n",
    "%cd {base_dir}\n",
    "\n",
    "fast_denoising = False\n",
    "\n",
    "#input_dir = base_dir + '/Nivelles_100_small'\n",
    "#output_dir = base_dir + '/IR_Results_Nivelles_100_small'\n",
    "\n",
    "input_dir = base_dir + '/InputTest'\n",
    "output_dir = base_dir + '/IR_Results_InputTest'\n",
    "\n",
    "python_dir = '/home/mickael.tits/miniconda/envs/imagepipeline/bin/python'\n"
   ]
  },
  {
   "cell_type": "code",
   "execution_count": 2,
   "metadata": {},
   "outputs": [],
   "source": [
    "import ImageRestorer as IR\n",
    "import ImagePipeline_utils as IP\n",
    "\n",
    "#IP.createdir_ifnotexists(output_dir)\n",
    "\n",
    "restorer = IR.ImageRestorer()"
   ]
  },
  {
   "cell_type": "code",
   "execution_count": 3,
   "metadata": {},
   "outputs": [],
   "source": [
    "preprocess_dir = output_dir + '/Preprocessing'\n",
    "strip_removal_dir1 = output_dir + '/Removing_stripes'\n",
    "filter_dir1 = output_dir + '/Filtering'\n",
    "strip_removal_dir2 = output_dir + '/Removing_stripes_2'\n",
    "gaussian_removal_dir = output_dir + '/Removing_gaussian_noise'\n",
    "colorisation_dir = output_dir + '/Colorisation'\n",
    "superres_dir = output_dir + '/Superresolution'"
   ]
  },
  {
   "cell_type": "code",
   "execution_count": 4,
   "metadata": {},
   "outputs": [
    {
     "name": "stdout",
     "output_type": "stream",
     "text": [
      "Image preprocessing...: finished in 0.0431 s\n"
     ]
    }
   ],
   "source": [
    "restorer.preprocess(inputdir = input_dir, outputdir = preprocess_dir, gray = True)"
   ]
  },
  {
   "cell_type": "code",
   "execution_count": 5,
   "metadata": {},
   "outputs": [
    {
     "name": "stdout",
     "output_type": "stream",
     "text": [
      "Removing vertical stripes...: finished in 3.2299 s\n",
      "Removing horizontal stripes...: finished in 0.5671 s\n"
     ]
    }
   ],
   "source": [
    "#Note: if no input in specified, output folder from previous process is used as input\n",
    "#If no output is specified, input folder is overriden by the result of the process\n",
    "restorer.remove_stripes(preprocess_dir, strip_removal_dir1)"
   ]
  },
  {
   "cell_type": "code",
   "execution_count": 6,
   "metadata": {},
   "outputs": [
    {
     "name": "stdout",
     "output_type": "stream",
     "text": [
      "Image filtering...: finished in 0.0192 s\n"
     ]
    }
   ],
   "source": [
    "#options = {'median':True, 'median_winsize':5, 'gaussian':True, 'gaussian_x':5, 'gaussian_y':5, 'gaussian_std':0, 'mean':True, 'mean_winsize':3, 'raising':True, 'quiet':True}\n",
    "restorer.filter(strip_removal_dir1, outputdir = filter_dir1)#, **options)"
   ]
  },
  {
   "cell_type": "code",
   "execution_count": 7,
   "metadata": {},
   "outputs": [
    {
     "name": "stdout",
     "output_type": "stream",
     "text": [
      "Removing vertical stripes...: finished in 0.3693 s\n",
      "Removing horizontal stripes...: finished in 0.3721 s\n"
     ]
    }
   ],
   "source": [
    "restorer.remove_stripes(filter_dir1, strip_removal_dir2)"
   ]
  },
  {
   "cell_type": "code",
   "execution_count": 4,
   "metadata": {},
   "outputs": [
    {
     "name": "stdout",
     "output_type": "stream",
     "text": [
      "Removing gaussian noise...: finished in 384.6803 s\n"
     ]
    }
   ],
   "source": [
    "restorer.remove_gaussian_noise(strip_removal_dir2, gaussian_removal_dir, quiet = False, python_dir = python_dir)"
   ]
  },
  {
   "cell_type": "code",
   "execution_count": 4,
   "metadata": {},
   "outputs": [
    {
     "name": "stdout",
     "output_type": "stream",
     "text": [
      "Colorizing...: finished in 64.7112 s\n"
     ]
    }
   ],
   "source": [
    "restorer.colorize(gaussian_removal_dir, colorisation_dir, quiet = False, python_dir = python_dir)"
   ]
  },
  {
   "cell_type": "code",
   "execution_count": 4,
   "metadata": {},
   "outputs": [
    {
     "name": "stdout",
     "output_type": "stream",
     "text": [
      "Super-resolving......: finished in 8.6370 s\n"
     ]
    }
   ],
   "source": [
    "restorer.super_resolution(colorisation_dir, superres_dir, quiet = False, python_dir = python_dir)"
   ]
  },
  {
   "cell_type": "code",
   "execution_count": 5,
   "metadata": {},
   "outputs": [
    {
     "name": "stdout",
     "output_type": "stream",
     "text": [
      "/home/mickael.tits/ImageRestorationPipeline/IR_Results_InputTest/Superresolution\n"
     ]
    }
   ],
   "source": [
    "#print(restorator.history)\n",
    "for item in restorer._history: print(item['output'])"
   ]
  },
  {
   "cell_type": "code",
   "execution_count": 9,
   "metadata": {},
   "outputs": [
    {
     "data": {
      "text/plain": [
       "True"
      ]
     },
     "execution_count": 9,
     "metadata": {},
     "output_type": "execute_result"
    }
   ],
   "source": [
    "restorer.quiet"
   ]
  }
 ],
 "metadata": {
  "kernelspec": {
   "display_name": "imagepipeline",
   "language": "python",
   "name": "imagepipeline"
  },
  "language_info": {
   "codemirror_mode": {
    "name": "ipython",
    "version": 3
   },
   "file_extension": ".py",
   "mimetype": "text/x-python",
   "name": "python",
   "nbconvert_exporter": "python",
   "pygments_lexer": "ipython3",
   "version": "3.6.7"
  }
 },
 "nbformat": 4,
 "nbformat_minor": 2
}
